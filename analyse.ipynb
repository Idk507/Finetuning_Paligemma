{
 "cells": [
  {
   "cell_type": "code",
   "execution_count": 1,
   "metadata": {},
   "outputs": [
    {
     "name": "stderr",
     "output_type": "stream",
     "text": [
      "c:\\Users\\dhanu\\.conda\\envs\\llm\\lib\\site-packages\\datasets\\load.py:1461: FutureWarning: The repository for HuggingFaceM4/VQAv2 contains custom code which must be executed to correctly load the dataset. You can inspect the repository content at https://hf.co/datasets/HuggingFaceM4/VQAv2\n",
      "You can avoid this message in future by passing the argument `trust_remote_code=True`.\n",
      "Passing `trust_remote_code=True` will be mandatory to load this dataset from the next major release of `datasets`.\n",
      "  warnings.warn(\n",
      "Repo card metadata block was not found. Setting CardData to empty.\n"
     ]
    },
    {
     "name": "stdout",
     "output_type": "stream",
     "text": [
      "10 images saved successfully.\n"
     ]
    }
   ],
   "source": [
    "import os\n",
    "import re\n",
    "from datasets import load_dataset\n",
    "from PIL import Image\n",
    "\n",
    "# Create a directory to save images\n",
    "os.makedirs('saved_images', exist_ok=True)\n",
    "\n",
    "# Load and preprocess the dataset\n",
    "ds = load_dataset('HuggingFaceM4/VQAv2', split=\"train[:10%]\")\n",
    "cols_keep = [\"question_type\", \"answers\", \"answer_type\", \"image\", \"image_id\", \"question_id\", \"question\"]\n",
    "ds = ds.remove_columns([col for col in ds.column_names if col not in cols_keep])\n",
    "split_ds = ds.train_test_split(test_size=0.05)\n",
    "train_ds = split_ds[\"test\"]\n",
    "\n",
    "# Helper function to sanitize filenames\n",
    "def sanitize_filename(text):\n",
    "    text = re.sub(r'\\W+', '_', text)\n",
    "    return text[:50]  # Truncate to 50 characters for safety\n",
    "\n",
    "# Save 10 images from the dataset with filenames based on metadata\n",
    "for i in range(10):\n",
    "    example = train_ds[i]\n",
    "    image = example[\"image\"]\n",
    "    question_type = sanitize_filename(example[\"question_type\"])\n",
    "    question = sanitize_filename(example[\"question\"])\n",
    "    # Combine unique answers, truncating and sanitizing the string\n",
    "    answers = \"_\".join(sorted(set([sanitize_filename(ans['answer']) for ans in example[\"answers\"]])))\n",
    "    answers = answers[:50]  # Truncate to 50 characters for safety\n",
    "    answer_type = sanitize_filename(example[\"answer_type\"])\n",
    "    \n",
    "    filename = f\"{question_type}_{question}_{answers}_{answer_type}.jpg\"\n",
    "    filepath = os.path.join('saved_images', filename)\n",
    "    \n",
    "    image.save(filepath)\n",
    "\n",
    "print(\"10 images saved successfully.\")"
   ]
  },
  {
   "cell_type": "code",
   "execution_count": null,
   "metadata": {},
   "outputs": [],
   "source": []
  }
 ],
 "metadata": {
  "kernelspec": {
   "display_name": "llm",
   "language": "python",
   "name": "python3"
  },
  "language_info": {
   "codemirror_mode": {
    "name": "ipython",
    "version": 3
   },
   "file_extension": ".py",
   "mimetype": "text/x-python",
   "name": "python",
   "nbconvert_exporter": "python",
   "pygments_lexer": "ipython3",
   "version": "3.10.14"
  }
 },
 "nbformat": 4,
 "nbformat_minor": 2
}
